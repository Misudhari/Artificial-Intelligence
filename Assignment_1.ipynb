{
  "nbformat": 4,
  "nbformat_minor": 0,
  "metadata": {
    "colab": {
      "provenance": [],
      "collapsed_sections": [],
      "mount_file_id": "1FI5p2gSpCE1xTLtc9a7ZnD9UBVv1Vwd3",
      "authorship_tag": "ABX9TyNKG/QFnUbFMAbm5l4W7iSw",
      "include_colab_link": true
    },
    "kernelspec": {
      "name": "python3",
      "display_name": "Python 3"
    },
    "language_info": {
      "name": "python"
    }
  },
  "cells": [
    {
      "cell_type": "markdown",
      "metadata": {
        "id": "view-in-github",
        "colab_type": "text"
      },
      "source": [
        "<a href=\"https://colab.research.google.com/github/Misudhari/Artificial-Intelligence/blob/main/Assignment_1.ipynb\" target=\"_parent\"><img src=\"https://colab.research.google.com/assets/colab-badge.svg\" alt=\"Open In Colab\"/></a>"
      ]
    },
    {
      "cell_type": "code",
      "execution_count": 8,
      "metadata": {
        "id": "YRvFD78FuDGG",
        "colab": {
          "base_uri": "https://localhost:8080/"
        },
        "outputId": "860c6363-03bf-4d0c-e40a-89da318ae919"
      },
      "outputs": [
        {
          "output_type": "stream",
          "name": "stdout",
          "text": [
            "/bin/bash: -c: line 0: syntax error near unexpected token `'all''\n",
            "/bin/bash: -c: line 0: `nltk.download('all')'\n"
          ]
        }
      ],
      "source": [
        "import nltk\n",
        "nltk.download('all')\n",
        "from nltk.tokenize import sent_tokenize, word_tokenize"
      ]
    },
    {
      "cell_type": "markdown",
      "source": [
        "#Program 1\n",
        "\n",
        "tokenize the following sentence - <br> \n",
        "\n",
        "###\"The quick brown fox jumps on lazy dog\""
      ],
      "metadata": {
        "id": "rWLFt2qpaeIP"
      }
    },
    {
      "cell_type": "code",
      "source": [
        "# Find the tokens in the following sentence - \n",
        "# The quick brown fox jumps on lazy dog\n",
        "# Scottish Corpus of text and speech\n",
        "# American National Corpus\n",
        "\n",
        "# Tokenizing - word tokenizers  and sentence tokenizers\n",
        "# nltk.download('punkt')\n",
        "\n",
        "text = 'The quick brown fox jumps on lazy dog'\n",
        "words = word_tokenize(text)\n",
        "print(words)"
      ],
      "metadata": {
        "id": "_UU_cyCJuYLR",
        "colab": {
          "base_uri": "https://localhost:8080/"
        },
        "outputId": "07366324-1b9a-4963-a059-8e93acfd5d0b"
      },
      "execution_count": 9,
      "outputs": [
        {
          "output_type": "stream",
          "name": "stdout",
          "text": [
            "['The', 'quick', 'brown', 'fox', 'jumps', 'on', 'lazy', 'dog']\n"
          ]
        }
      ]
    },
    {
      "cell_type": "markdown",
      "source": [
        "\n",
        "#Program 2\n",
        "Find the Stop words and print"
      ],
      "metadata": {
        "id": "3rmR82kLbICU"
      }
    },
    {
      "cell_type": "code",
      "source": [
        "# nltk.download('stopwords')\n",
        "from nltk.corpus import stopwords\n",
        "\n",
        "stop_words = stopwords.words('english')\n",
        "l = []\n",
        "# print(stop_words)\n",
        "for word in words:\n",
        "  word = word.casefold()\n",
        "  # print(word)\n",
        "  if word in stop_words:\n",
        "    l.append(word)\n",
        "\n",
        "print(l)"
      ],
      "metadata": {
        "colab": {
          "base_uri": "https://localhost:8080/"
        },
        "id": "YsfFr7-aK0Uc",
        "outputId": "b8d7daf2-2e68-4f03-98df-d099d2d9d6d0"
      },
      "execution_count": 11,
      "outputs": [
        {
          "output_type": "stream",
          "name": "stdout",
          "text": [
            "['the', 'on']\n"
          ]
        }
      ]
    },
    {
      "cell_type": "code",
      "source": [
        "for i in stop_words:\n",
        "  print(i)\n",
        "\n",
        "list1 = ['Won', 'myself', 'dori']"
      ],
      "metadata": {
        "colab": {
          "base_uri": "https://localhost:8080/"
        },
        "id": "dSfT9EK8STlq",
        "outputId": "dd8801ac-c520-4f22-d1a9-5c4e04845afb"
      },
      "execution_count": 36,
      "outputs": [
        {
          "output_type": "stream",
          "name": "stdout",
          "text": [
            "i\n",
            "me\n",
            "my\n",
            "myself\n",
            "we\n",
            "our\n",
            "ours\n",
            "ourselves\n",
            "you\n",
            "you're\n",
            "you've\n",
            "you'll\n",
            "you'd\n",
            "your\n",
            "yours\n",
            "yourself\n",
            "yourselves\n",
            "he\n",
            "him\n",
            "his\n",
            "himself\n",
            "she\n",
            "she's\n",
            "her\n",
            "hers\n",
            "herself\n",
            "it\n",
            "it's\n",
            "its\n",
            "itself\n",
            "they\n",
            "them\n",
            "their\n",
            "theirs\n",
            "themselves\n",
            "what\n",
            "which\n",
            "who\n",
            "whom\n",
            "this\n",
            "that\n",
            "that'll\n",
            "these\n",
            "those\n",
            "am\n",
            "is\n",
            "are\n",
            "was\n",
            "were\n",
            "be\n",
            "been\n",
            "being\n",
            "have\n",
            "has\n",
            "had\n",
            "having\n",
            "do\n",
            "does\n",
            "did\n",
            "doing\n",
            "a\n",
            "an\n",
            "the\n",
            "and\n",
            "but\n",
            "if\n",
            "or\n",
            "because\n",
            "as\n",
            "until\n",
            "while\n",
            "of\n",
            "at\n",
            "by\n",
            "for\n",
            "with\n",
            "about\n",
            "against\n",
            "between\n",
            "into\n",
            "through\n",
            "during\n",
            "before\n",
            "after\n",
            "above\n",
            "below\n",
            "to\n",
            "from\n",
            "up\n",
            "down\n",
            "in\n",
            "out\n",
            "on\n",
            "off\n",
            "over\n",
            "under\n",
            "again\n",
            "further\n",
            "then\n",
            "once\n",
            "here\n",
            "there\n",
            "when\n",
            "where\n",
            "why\n",
            "how\n",
            "all\n",
            "any\n",
            "both\n",
            "each\n",
            "few\n",
            "more\n",
            "most\n",
            "other\n",
            "some\n",
            "such\n",
            "no\n",
            "nor\n",
            "not\n",
            "only\n",
            "own\n",
            "same\n",
            "so\n",
            "than\n",
            "too\n",
            "very\n",
            "s\n",
            "t\n",
            "can\n",
            "will\n",
            "just\n",
            "don\n",
            "don't\n",
            "should\n",
            "should've\n",
            "now\n",
            "d\n",
            "ll\n",
            "m\n",
            "o\n",
            "re\n",
            "ve\n",
            "y\n",
            "ain\n",
            "aren\n",
            "aren't\n",
            "couldn\n",
            "couldn't\n",
            "didn\n",
            "didn't\n",
            "doesn\n",
            "doesn't\n",
            "hadn\n",
            "hadn't\n",
            "hasn\n",
            "hasn't\n",
            "haven\n",
            "haven't\n",
            "isn\n",
            "isn't\n",
            "ma\n",
            "mightn\n",
            "mightn't\n",
            "mustn\n",
            "mustn't\n",
            "needn\n",
            "needn't\n",
            "shan\n",
            "shan't\n",
            "shouldn\n",
            "shouldn't\n",
            "wasn\n",
            "wasn't\n",
            "weren\n",
            "weren't\n",
            "won\n",
            "won't\n",
            "wouldn\n",
            "wouldn't\n"
          ]
        },
        {
          "output_type": "execute_result",
          "data": {
            "text/plain": [
              "['i',\n",
              " 'me',\n",
              " 'my',\n",
              " 'myself',\n",
              " 'we',\n",
              " 'our',\n",
              " 'ours',\n",
              " 'ourselves',\n",
              " 'you',\n",
              " \"you're\",\n",
              " \"you've\",\n",
              " \"you'll\",\n",
              " \"you'd\",\n",
              " 'your',\n",
              " 'yours',\n",
              " 'yourself',\n",
              " 'yourselves',\n",
              " 'he',\n",
              " 'him',\n",
              " 'his',\n",
              " 'himself',\n",
              " 'she',\n",
              " \"she's\",\n",
              " 'her',\n",
              " 'hers',\n",
              " 'herself',\n",
              " 'it',\n",
              " \"it's\",\n",
              " 'its',\n",
              " 'itself',\n",
              " 'they',\n",
              " 'them',\n",
              " 'their',\n",
              " 'theirs',\n",
              " 'themselves',\n",
              " 'what',\n",
              " 'which',\n",
              " 'who',\n",
              " 'whom',\n",
              " 'this',\n",
              " 'that',\n",
              " \"that'll\",\n",
              " 'these',\n",
              " 'those',\n",
              " 'am',\n",
              " 'is',\n",
              " 'are',\n",
              " 'was',\n",
              " 'were',\n",
              " 'be',\n",
              " 'been',\n",
              " 'being',\n",
              " 'have',\n",
              " 'has',\n",
              " 'had',\n",
              " 'having',\n",
              " 'do',\n",
              " 'does',\n",
              " 'did',\n",
              " 'doing',\n",
              " 'a',\n",
              " 'an',\n",
              " 'the',\n",
              " 'and',\n",
              " 'but',\n",
              " 'if',\n",
              " 'or',\n",
              " 'because',\n",
              " 'as',\n",
              " 'until',\n",
              " 'while',\n",
              " 'of',\n",
              " 'at',\n",
              " 'by',\n",
              " 'for',\n",
              " 'with',\n",
              " 'about',\n",
              " 'against',\n",
              " 'between',\n",
              " 'into',\n",
              " 'through',\n",
              " 'during',\n",
              " 'before',\n",
              " 'after',\n",
              " 'above',\n",
              " 'below',\n",
              " 'to',\n",
              " 'from',\n",
              " 'up',\n",
              " 'down',\n",
              " 'in',\n",
              " 'out',\n",
              " 'on',\n",
              " 'off',\n",
              " 'over',\n",
              " 'under',\n",
              " 'again',\n",
              " 'further',\n",
              " 'then',\n",
              " 'once',\n",
              " 'here',\n",
              " 'there',\n",
              " 'when',\n",
              " 'where',\n",
              " 'why',\n",
              " 'how',\n",
              " 'all',\n",
              " 'any',\n",
              " 'both',\n",
              " 'each',\n",
              " 'few',\n",
              " 'more',\n",
              " 'most',\n",
              " 'other',\n",
              " 'some',\n",
              " 'such',\n",
              " 'no',\n",
              " 'nor',\n",
              " 'not',\n",
              " 'only',\n",
              " 'own',\n",
              " 'same',\n",
              " 'so',\n",
              " 'than',\n",
              " 'too',\n",
              " 'very',\n",
              " 's',\n",
              " 't',\n",
              " 'can',\n",
              " 'will',\n",
              " 'just',\n",
              " 'don',\n",
              " \"don't\",\n",
              " 'should',\n",
              " \"should've\",\n",
              " 'now',\n",
              " 'd',\n",
              " 'll',\n",
              " 'm',\n",
              " 'o',\n",
              " 're',\n",
              " 've',\n",
              " 'y',\n",
              " 'ain',\n",
              " 'aren',\n",
              " \"aren't\",\n",
              " 'couldn',\n",
              " \"couldn't\",\n",
              " 'didn',\n",
              " \"didn't\",\n",
              " 'doesn',\n",
              " \"doesn't\",\n",
              " 'hadn',\n",
              " \"hadn't\",\n",
              " 'hasn',\n",
              " \"hasn't\",\n",
              " 'haven',\n",
              " \"haven't\",\n",
              " 'isn',\n",
              " \"isn't\",\n",
              " 'ma',\n",
              " 'mightn',\n",
              " \"mightn't\",\n",
              " 'mustn',\n",
              " \"mustn't\",\n",
              " 'needn',\n",
              " \"needn't\",\n",
              " 'shan',\n",
              " \"shan't\",\n",
              " 'shouldn',\n",
              " \"shouldn't\",\n",
              " 'wasn',\n",
              " \"wasn't\",\n",
              " 'weren',\n",
              " \"weren't\",\n",
              " 'won',\n",
              " \"won't\",\n",
              " 'wouldn',\n",
              " \"wouldn't\"]"
            ]
          },
          "metadata": {},
          "execution_count": 36
        }
      ]
    },
    {
      "cell_type": "markdown",
      "source": [
        "#Program 3\n",
        "Convert text file to tokens and - \n",
        "1. Print tokens\n",
        "2. Print tokens that does not contain stopwords."
      ],
      "metadata": {
        "id": "3E4z-202njyd"
      }
    },
    {
      "cell_type": "code",
      "source": [
        "with open('/content/drive/MyDrive/Datasets/sample.txt','r') as file:\n",
        "  text = file.read()\n",
        "\n",
        "# text\n",
        "from nltk.tokenize import sent_tokenize, word_tokenize\n",
        "\n",
        "# sentence_tokens = sent_tokenize(text)\n",
        "word_tokens = word_tokenize(text)\n",
        "words_without_stop_words = []\n",
        "# for i in sentence_tokens:\n",
        "#   word = word_tokenize(i)\n",
        "#   word_tokens.append(word)\n",
        "\n",
        "# print(\"Sentence Tokens = {}\".format(sentence_tokens))\n",
        "print(\"Word Tokens = {}\".format(word_tokens))\n",
        "\n",
        "from nltk.corpus import stopwords\n",
        "\n",
        "stop_words = stopwords.words('english')\n",
        "for token in word_tokens:\n",
        "  if token not in stop_words:\n",
        "    words_without_stop_words.append(token)\n",
        "\n",
        "print(\"Tokens without stop words = {}\".format(words_without_stop_words))\n",
        "\n"
      ],
      "metadata": {
        "id": "MfpO5UoxiA2S",
        "colab": {
          "base_uri": "https://localhost:8080/"
        },
        "outputId": "6f2d5c8c-3318-4844-80b9-2df3cdf1be85"
      },
      "execution_count": 39,
      "outputs": [
        {
          "output_type": "stream",
          "name": "stdout",
          "text": [
            "Word Tokens = ['My', 'name', 'is', 'Mithilesh', '.', 'I', 'am', 'about', 'to', 'turn', '22', '.', 'How', 'old', 'are', 'you', '?', 'India', 'won', 'today', 'I', 'go', 'to', 'MITWPU', '.', 'I', 'want', 'a', 'very', 'good', 'job', 'for', 'right', 'now', '.']\n",
            "Tokens without stop words = ['My', 'name', 'Mithilesh', '.', 'I', 'turn', '22', '.', 'How', 'old', '?', 'India', 'today', 'I', 'go', 'MITWPU', '.', 'I', 'want', 'good', 'job', 'right', '.']\n"
          ]
        }
      ]
    },
    {
      "cell_type": "markdown",
      "source": [
        "###I was trying to tokenize file by sentences and then if a sentence contains stop word then skip that sentence. But I couldn't do that."
      ],
      "metadata": {
        "id": "n1MVdc0fg955"
      }
    },
    {
      "cell_type": "markdown",
      "source": [
        "#Program 4\n",
        "'Friendship' - Form minigful words with at least 4 length.\n",
        "For e.g. - ship, ends, ripen etc."
      ],
      "metadata": {
        "id": "Be9S2P-wiKOS"
      }
    },
    {
      "cell_type": "code",
      "source": [
        "# import random\n",
        "# word = 'friendship'\n",
        "# l = [i for i in word]\n",
        "# print(l)\n",
        "# n = len(l)\n",
        "# print(n)\n",
        "# # the possible  words can be formed of lengths at least 4 in 10C4 Ways\n",
        "# for i in range (0,10):\n",
        "#   temp = l[random.randint(1,9)]\n",
        "#   print(temp)\n",
        "\n",
        "import itertools\n",
        "\n",
        "def create_words(lists, size_of_each_word):\n",
        "  words = []\n",
        "  for i in lists:\n",
        "    words.append(''.join(i))\n",
        "  return(words)\n",
        "\n",
        "l1 = itertools.combinations('friendship',4)\n",
        "l2 = itertools.combinations('friendship',5)\n",
        "l3 = itertools.combinations('friendship',6)\n",
        "l4 = itertools.combinations('friendship',7)\n",
        "l5 = itertools.combinations('friendship',8)\n",
        "l6 = itertools.combinations('friendship',9)\n",
        "l7 = itertools.combinations('friendship',10)\n",
        "\n",
        "words_list = []\n",
        "\n",
        "words_list.append(create_words(l1,4))\n",
        "words_list.append(create_words(l2,5))\n",
        "words_list.append(create_words(l3,6))\n",
        "words_list.append(create_words(l4,7))\n",
        "words_list.append(create_words(l5,8))\n",
        "words_list.append(create_words(l6,9))\n",
        "words_list.append(create_words(l7,10))\n",
        "\n",
        "print(words_list)\n",
        "\n",
        "\n",
        "\n",
        "\n"
      ],
      "metadata": {
        "id": "Wf-V7PJOplYM",
        "colab": {
          "base_uri": "https://localhost:8080/"
        },
        "outputId": "f8fd69c9-683a-4163-eeff-ec1ab8b139ad"
      },
      "execution_count": 65,
      "outputs": [
        {
          "output_type": "stream",
          "name": "stdout",
          "text": [
            "[['frie', 'frin', 'frid', 'fris', 'frih', 'frii', 'frip', 'fren', 'fred', 'fres', 'freh', 'frei', 'frep', 'frnd', 'frns', 'frnh', 'frni', 'frnp', 'frds', 'frdh', 'frdi', 'frdp', 'frsh', 'frsi', 'frsp', 'frhi', 'frhp', 'frip', 'fien', 'fied', 'fies', 'fieh', 'fiei', 'fiep', 'find', 'fins', 'finh', 'fini', 'finp', 'fids', 'fidh', 'fidi', 'fidp', 'fish', 'fisi', 'fisp', 'fihi', 'fihp', 'fiip', 'fend', 'fens', 'fenh', 'feni', 'fenp', 'feds', 'fedh', 'fedi', 'fedp', 'fesh', 'fesi', 'fesp', 'fehi', 'fehp', 'feip', 'fnds', 'fndh', 'fndi', 'fndp', 'fnsh', 'fnsi', 'fnsp', 'fnhi', 'fnhp', 'fnip', 'fdsh', 'fdsi', 'fdsp', 'fdhi', 'fdhp', 'fdip', 'fshi', 'fshp', 'fsip', 'fhip', 'rien', 'ried', 'ries', 'rieh', 'riei', 'riep', 'rind', 'rins', 'rinh', 'rini', 'rinp', 'rids', 'ridh', 'ridi', 'ridp', 'rish', 'risi', 'risp', 'rihi', 'rihp', 'riip', 'rend', 'rens', 'renh', 'reni', 'renp', 'reds', 'redh', 'redi', 'redp', 'resh', 'resi', 'resp', 'rehi', 'rehp', 'reip', 'rnds', 'rndh', 'rndi', 'rndp', 'rnsh', 'rnsi', 'rnsp', 'rnhi', 'rnhp', 'rnip', 'rdsh', 'rdsi', 'rdsp', 'rdhi', 'rdhp', 'rdip', 'rshi', 'rshp', 'rsip', 'rhip', 'iend', 'iens', 'ienh', 'ieni', 'ienp', 'ieds', 'iedh', 'iedi', 'iedp', 'iesh', 'iesi', 'iesp', 'iehi', 'iehp', 'ieip', 'inds', 'indh', 'indi', 'indp', 'insh', 'insi', 'insp', 'inhi', 'inhp', 'inip', 'idsh', 'idsi', 'idsp', 'idhi', 'idhp', 'idip', 'ishi', 'ishp', 'isip', 'ihip', 'ends', 'endh', 'endi', 'endp', 'ensh', 'ensi', 'ensp', 'enhi', 'enhp', 'enip', 'edsh', 'edsi', 'edsp', 'edhi', 'edhp', 'edip', 'eshi', 'eshp', 'esip', 'ehip', 'ndsh', 'ndsi', 'ndsp', 'ndhi', 'ndhp', 'ndip', 'nshi', 'nshp', 'nsip', 'nhip', 'dshi', 'dshp', 'dsip', 'dhip', 'ship'], ['frien', 'fried', 'fries', 'frieh', 'friei', 'friep', 'frind', 'frins', 'frinh', 'frini', 'frinp', 'frids', 'fridh', 'fridi', 'fridp', 'frish', 'frisi', 'frisp', 'frihi', 'frihp', 'friip', 'frend', 'frens', 'frenh', 'freni', 'frenp', 'freds', 'fredh', 'fredi', 'fredp', 'fresh', 'fresi', 'fresp', 'frehi', 'frehp', 'freip', 'frnds', 'frndh', 'frndi', 'frndp', 'frnsh', 'frnsi', 'frnsp', 'frnhi', 'frnhp', 'frnip', 'frdsh', 'frdsi', 'frdsp', 'frdhi', 'frdhp', 'frdip', 'frshi', 'frshp', 'frsip', 'frhip', 'fiend', 'fiens', 'fienh', 'fieni', 'fienp', 'fieds', 'fiedh', 'fiedi', 'fiedp', 'fiesh', 'fiesi', 'fiesp', 'fiehi', 'fiehp', 'fieip', 'finds', 'findh', 'findi', 'findp', 'finsh', 'finsi', 'finsp', 'finhi', 'finhp', 'finip', 'fidsh', 'fidsi', 'fidsp', 'fidhi', 'fidhp', 'fidip', 'fishi', 'fishp', 'fisip', 'fihip', 'fends', 'fendh', 'fendi', 'fendp', 'fensh', 'fensi', 'fensp', 'fenhi', 'fenhp', 'fenip', 'fedsh', 'fedsi', 'fedsp', 'fedhi', 'fedhp', 'fedip', 'feshi', 'feshp', 'fesip', 'fehip', 'fndsh', 'fndsi', 'fndsp', 'fndhi', 'fndhp', 'fndip', 'fnshi', 'fnshp', 'fnsip', 'fnhip', 'fdshi', 'fdshp', 'fdsip', 'fdhip', 'fship', 'riend', 'riens', 'rienh', 'rieni', 'rienp', 'rieds', 'riedh', 'riedi', 'riedp', 'riesh', 'riesi', 'riesp', 'riehi', 'riehp', 'rieip', 'rinds', 'rindh', 'rindi', 'rindp', 'rinsh', 'rinsi', 'rinsp', 'rinhi', 'rinhp', 'rinip', 'ridsh', 'ridsi', 'ridsp', 'ridhi', 'ridhp', 'ridip', 'rishi', 'rishp', 'risip', 'rihip', 'rends', 'rendh', 'rendi', 'rendp', 'rensh', 'rensi', 'rensp', 'renhi', 'renhp', 'renip', 'redsh', 'redsi', 'redsp', 'redhi', 'redhp', 'redip', 'reshi', 'reshp', 'resip', 'rehip', 'rndsh', 'rndsi', 'rndsp', 'rndhi', 'rndhp', 'rndip', 'rnshi', 'rnshp', 'rnsip', 'rnhip', 'rdshi', 'rdshp', 'rdsip', 'rdhip', 'rship', 'iends', 'iendh', 'iendi', 'iendp', 'iensh', 'iensi', 'iensp', 'ienhi', 'ienhp', 'ienip', 'iedsh', 'iedsi', 'iedsp', 'iedhi', 'iedhp', 'iedip', 'ieshi', 'ieshp', 'iesip', 'iehip', 'indsh', 'indsi', 'indsp', 'indhi', 'indhp', 'indip', 'inshi', 'inshp', 'insip', 'inhip', 'idshi', 'idshp', 'idsip', 'idhip', 'iship', 'endsh', 'endsi', 'endsp', 'endhi', 'endhp', 'endip', 'enshi', 'enshp', 'ensip', 'enhip', 'edshi', 'edshp', 'edsip', 'edhip', 'eship', 'ndshi', 'ndshp', 'ndsip', 'ndhip', 'nship', 'dship'], ['friend', 'friens', 'frienh', 'frieni', 'frienp', 'frieds', 'friedh', 'friedi', 'friedp', 'friesh', 'friesi', 'friesp', 'friehi', 'friehp', 'frieip', 'frinds', 'frindh', 'frindi', 'frindp', 'frinsh', 'frinsi', 'frinsp', 'frinhi', 'frinhp', 'frinip', 'fridsh', 'fridsi', 'fridsp', 'fridhi', 'fridhp', 'fridip', 'frishi', 'frishp', 'frisip', 'frihip', 'frends', 'frendh', 'frendi', 'frendp', 'frensh', 'frensi', 'frensp', 'frenhi', 'frenhp', 'frenip', 'fredsh', 'fredsi', 'fredsp', 'fredhi', 'fredhp', 'fredip', 'freshi', 'freshp', 'fresip', 'frehip', 'frndsh', 'frndsi', 'frndsp', 'frndhi', 'frndhp', 'frndip', 'frnshi', 'frnshp', 'frnsip', 'frnhip', 'frdshi', 'frdshp', 'frdsip', 'frdhip', 'frship', 'fiends', 'fiendh', 'fiendi', 'fiendp', 'fiensh', 'fiensi', 'fiensp', 'fienhi', 'fienhp', 'fienip', 'fiedsh', 'fiedsi', 'fiedsp', 'fiedhi', 'fiedhp', 'fiedip', 'fieshi', 'fieshp', 'fiesip', 'fiehip', 'findsh', 'findsi', 'findsp', 'findhi', 'findhp', 'findip', 'finshi', 'finshp', 'finsip', 'finhip', 'fidshi', 'fidshp', 'fidsip', 'fidhip', 'fiship', 'fendsh', 'fendsi', 'fendsp', 'fendhi', 'fendhp', 'fendip', 'fenshi', 'fenshp', 'fensip', 'fenhip', 'fedshi', 'fedshp', 'fedsip', 'fedhip', 'feship', 'fndshi', 'fndshp', 'fndsip', 'fndhip', 'fnship', 'fdship', 'riends', 'riendh', 'riendi', 'riendp', 'riensh', 'riensi', 'riensp', 'rienhi', 'rienhp', 'rienip', 'riedsh', 'riedsi', 'riedsp', 'riedhi', 'riedhp', 'riedip', 'rieshi', 'rieshp', 'riesip', 'riehip', 'rindsh', 'rindsi', 'rindsp', 'rindhi', 'rindhp', 'rindip', 'rinshi', 'rinshp', 'rinsip', 'rinhip', 'ridshi', 'ridshp', 'ridsip', 'ridhip', 'riship', 'rendsh', 'rendsi', 'rendsp', 'rendhi', 'rendhp', 'rendip', 'renshi', 'renshp', 'rensip', 'renhip', 'redshi', 'redshp', 'redsip', 'redhip', 'reship', 'rndshi', 'rndshp', 'rndsip', 'rndhip', 'rnship', 'rdship', 'iendsh', 'iendsi', 'iendsp', 'iendhi', 'iendhp', 'iendip', 'ienshi', 'ienshp', 'iensip', 'ienhip', 'iedshi', 'iedshp', 'iedsip', 'iedhip', 'ieship', 'indshi', 'indshp', 'indsip', 'indhip', 'inship', 'idship', 'endshi', 'endshp', 'endsip', 'endhip', 'enship', 'edship', 'ndship'], ['friends', 'friendh', 'friendi', 'friendp', 'friensh', 'friensi', 'friensp', 'frienhi', 'frienhp', 'frienip', 'friedsh', 'friedsi', 'friedsp', 'friedhi', 'friedhp', 'friedip', 'frieshi', 'frieshp', 'friesip', 'friehip', 'frindsh', 'frindsi', 'frindsp', 'frindhi', 'frindhp', 'frindip', 'frinshi', 'frinshp', 'frinsip', 'frinhip', 'fridshi', 'fridshp', 'fridsip', 'fridhip', 'friship', 'frendsh', 'frendsi', 'frendsp', 'frendhi', 'frendhp', 'frendip', 'frenshi', 'frenshp', 'frensip', 'frenhip', 'fredshi', 'fredshp', 'fredsip', 'fredhip', 'freship', 'frndshi', 'frndshp', 'frndsip', 'frndhip', 'frnship', 'frdship', 'fiendsh', 'fiendsi', 'fiendsp', 'fiendhi', 'fiendhp', 'fiendip', 'fienshi', 'fienshp', 'fiensip', 'fienhip', 'fiedshi', 'fiedshp', 'fiedsip', 'fiedhip', 'fieship', 'findshi', 'findshp', 'findsip', 'findhip', 'finship', 'fidship', 'fendshi', 'fendshp', 'fendsip', 'fendhip', 'fenship', 'fedship', 'fndship', 'riendsh', 'riendsi', 'riendsp', 'riendhi', 'riendhp', 'riendip', 'rienshi', 'rienshp', 'riensip', 'rienhip', 'riedshi', 'riedshp', 'riedsip', 'riedhip', 'rieship', 'rindshi', 'rindshp', 'rindsip', 'rindhip', 'rinship', 'ridship', 'rendshi', 'rendshp', 'rendsip', 'rendhip', 'renship', 'redship', 'rndship', 'iendshi', 'iendshp', 'iendsip', 'iendhip', 'ienship', 'iedship', 'indship', 'endship'], ['friendsh', 'friendsi', 'friendsp', 'friendhi', 'friendhp', 'friendip', 'frienshi', 'frienshp', 'friensip', 'frienhip', 'friedshi', 'friedshp', 'friedsip', 'friedhip', 'frieship', 'frindshi', 'frindshp', 'frindsip', 'frindhip', 'frinship', 'fridship', 'frendshi', 'frendshp', 'frendsip', 'frendhip', 'frenship', 'fredship', 'frndship', 'fiendshi', 'fiendshp', 'fiendsip', 'fiendhip', 'fienship', 'fiedship', 'findship', 'fendship', 'riendshi', 'riendshp', 'riendsip', 'riendhip', 'rienship', 'riedship', 'rindship', 'rendship', 'iendship'], ['friendshi', 'friendshp', 'friendsip', 'friendhip', 'frienship', 'friedship', 'frindship', 'frendship', 'fiendship', 'riendship'], ['friendship']]\n"
          ]
        }
      ]
    },
    {
      "cell_type": "markdown",
      "source": [
        "#Progrsm 5\n",
        "Find Synonyms for word 'Hello' using wordnet corpus"
      ],
      "metadata": {
        "id": "uHoaPHhOv0ap"
      }
    },
    {
      "cell_type": "code",
      "source": [],
      "metadata": {
        "id": "vLh7tiiUk6FV"
      },
      "execution_count": null,
      "outputs": []
    }
  ]
}