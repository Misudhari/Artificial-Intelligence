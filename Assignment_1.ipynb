{
  "nbformat": 4,
  "nbformat_minor": 0,
  "metadata": {
    "colab": {
      "provenance": [],
      "collapsed_sections": [],
      "mount_file_id": "1FI5p2gSpCE1xTLtc9a7ZnD9UBVv1Vwd3",
      "authorship_tag": "ABX9TyPnKd8HCjjHPq2/hB1u4t6v",
      "include_colab_link": true
    },
    "kernelspec": {
      "name": "python3",
      "display_name": "Python 3"
    },
    "language_info": {
      "name": "python"
    }
  },
  "cells": [
    {
      "cell_type": "markdown",
      "metadata": {
        "id": "view-in-github",
        "colab_type": "text"
      },
      "source": [
        "<a href=\"https://colab.research.google.com/github/Misudhari/Artificial-Intelligence/blob/main/Assignment_1.ipynb\" target=\"_parent\"><img src=\"https://colab.research.google.com/assets/colab-badge.svg\" alt=\"Open In Colab\"/></a>"
      ]
    },
    {
      "cell_type": "code",
      "source": [
        "import nltk\n",
        "# nltk.download('all')\n",
        "from nltk.tokenize import sent_tokenize, word_tokenize"
      ],
      "metadata": {
        "id": "ww55qP3J916o"
      },
      "execution_count": null,
      "outputs": []
    },
    {
      "cell_type": "markdown",
      "source": [
        "#Program 1\n",
        "\n",
        "tokenize the following sentence - <br> \n",
        "\n",
        "###\"The quick brown fox jumps on lazy dog\""
      ],
      "metadata": {
        "id": "rWLFt2qpaeIP"
      }
    },
    {
      "cell_type": "code",
      "source": [
        "# Find the tokens in the following sentence - \n",
        "# The quick brown fox jumps on lazy dog\n",
        "# Scottish Corpus of text and speech\n",
        "# American National Corpus\n",
        "\n",
        "# Tokenizing - word tokenizers  and sentence tokenizers\n",
        "# nltk.download('punkt')\n",
        "\n",
        "text = 'The quick brown fox jumps on lazy dog'\n",
        "words = word_tokenize(text)\n",
        "print(words)"
      ],
      "metadata": {
        "id": "_UU_cyCJuYLR",
        "colab": {
          "base_uri": "https://localhost:8080/"
        },
        "outputId": "fbebb8ad-f224-4a32-cce3-87bcceda4f75"
      },
      "execution_count": null,
      "outputs": [
        {
          "output_type": "stream",
          "name": "stdout",
          "text": [
            "['The', 'quick', 'brown', 'fox', 'jumps', 'on', 'lazy', 'dog']\n"
          ]
        }
      ]
    },
    {
      "cell_type": "markdown",
      "source": [
        "\n",
        "#Program 2\n",
        "Find the Stop words and print"
      ],
      "metadata": {
        "id": "3rmR82kLbICU"
      }
    },
    {
      "cell_type": "code",
      "source": [
        "# nltk.download('stopwords')\n",
        "from nltk.corpus import stopwords\n",
        "\n",
        "stop_words = stopwords.words('english')\n",
        "l = []\n",
        "# print(stop_words)\n",
        "for word in words:\n",
        "  word = word.casefold()\n",
        "  # print(word)\n",
        "  if word in stop_words:\n",
        "    l.append(word)\n",
        "\n",
        "print(l)"
      ],
      "metadata": {
        "colab": {
          "base_uri": "https://localhost:8080/"
        },
        "id": "YsfFr7-aK0Uc",
        "outputId": "b264ad0c-3cc5-49e1-9167-a54aafc771cc"
      },
      "execution_count": null,
      "outputs": [
        {
          "output_type": "stream",
          "name": "stdout",
          "text": [
            "['the', 'on']\n"
          ]
        }
      ]
    },
    {
      "cell_type": "code",
      "source": [
        "stop_words\n",
        "\n",
        "# list1 = ['Won', 'myself', 'dori']"
      ],
      "metadata": {
        "colab": {
          "base_uri": "https://localhost:8080/"
        },
        "id": "dSfT9EK8STlq",
        "outputId": "d8502b7f-81bb-4c66-f18b-f6c7e13840ac"
      },
      "execution_count": null,
      "outputs": [
        {
          "output_type": "execute_result",
          "data": {
            "text/plain": [
              "['i',\n",
              " 'me',\n",
              " 'my',\n",
              " 'myself',\n",
              " 'we',\n",
              " 'our',\n",
              " 'ours',\n",
              " 'ourselves',\n",
              " 'you',\n",
              " \"you're\",\n",
              " \"you've\",\n",
              " \"you'll\",\n",
              " \"you'd\",\n",
              " 'your',\n",
              " 'yours',\n",
              " 'yourself',\n",
              " 'yourselves',\n",
              " 'he',\n",
              " 'him',\n",
              " 'his',\n",
              " 'himself',\n",
              " 'she',\n",
              " \"she's\",\n",
              " 'her',\n",
              " 'hers',\n",
              " 'herself',\n",
              " 'it',\n",
              " \"it's\",\n",
              " 'its',\n",
              " 'itself',\n",
              " 'they',\n",
              " 'them',\n",
              " 'their',\n",
              " 'theirs',\n",
              " 'themselves',\n",
              " 'what',\n",
              " 'which',\n",
              " 'who',\n",
              " 'whom',\n",
              " 'this',\n",
              " 'that',\n",
              " \"that'll\",\n",
              " 'these',\n",
              " 'those',\n",
              " 'am',\n",
              " 'is',\n",
              " 'are',\n",
              " 'was',\n",
              " 'were',\n",
              " 'be',\n",
              " 'been',\n",
              " 'being',\n",
              " 'have',\n",
              " 'has',\n",
              " 'had',\n",
              " 'having',\n",
              " 'do',\n",
              " 'does',\n",
              " 'did',\n",
              " 'doing',\n",
              " 'a',\n",
              " 'an',\n",
              " 'the',\n",
              " 'and',\n",
              " 'but',\n",
              " 'if',\n",
              " 'or',\n",
              " 'because',\n",
              " 'as',\n",
              " 'until',\n",
              " 'while',\n",
              " 'of',\n",
              " 'at',\n",
              " 'by',\n",
              " 'for',\n",
              " 'with',\n",
              " 'about',\n",
              " 'against',\n",
              " 'between',\n",
              " 'into',\n",
              " 'through',\n",
              " 'during',\n",
              " 'before',\n",
              " 'after',\n",
              " 'above',\n",
              " 'below',\n",
              " 'to',\n",
              " 'from',\n",
              " 'up',\n",
              " 'down',\n",
              " 'in',\n",
              " 'out',\n",
              " 'on',\n",
              " 'off',\n",
              " 'over',\n",
              " 'under',\n",
              " 'again',\n",
              " 'further',\n",
              " 'then',\n",
              " 'once',\n",
              " 'here',\n",
              " 'there',\n",
              " 'when',\n",
              " 'where',\n",
              " 'why',\n",
              " 'how',\n",
              " 'all',\n",
              " 'any',\n",
              " 'both',\n",
              " 'each',\n",
              " 'few',\n",
              " 'more',\n",
              " 'most',\n",
              " 'other',\n",
              " 'some',\n",
              " 'such',\n",
              " 'no',\n",
              " 'nor',\n",
              " 'not',\n",
              " 'only',\n",
              " 'own',\n",
              " 'same',\n",
              " 'so',\n",
              " 'than',\n",
              " 'too',\n",
              " 'very',\n",
              " 's',\n",
              " 't',\n",
              " 'can',\n",
              " 'will',\n",
              " 'just',\n",
              " 'don',\n",
              " \"don't\",\n",
              " 'should',\n",
              " \"should've\",\n",
              " 'now',\n",
              " 'd',\n",
              " 'll',\n",
              " 'm',\n",
              " 'o',\n",
              " 're',\n",
              " 've',\n",
              " 'y',\n",
              " 'ain',\n",
              " 'aren',\n",
              " \"aren't\",\n",
              " 'couldn',\n",
              " \"couldn't\",\n",
              " 'didn',\n",
              " \"didn't\",\n",
              " 'doesn',\n",
              " \"doesn't\",\n",
              " 'hadn',\n",
              " \"hadn't\",\n",
              " 'hasn',\n",
              " \"hasn't\",\n",
              " 'haven',\n",
              " \"haven't\",\n",
              " 'isn',\n",
              " \"isn't\",\n",
              " 'ma',\n",
              " 'mightn',\n",
              " \"mightn't\",\n",
              " 'mustn',\n",
              " \"mustn't\",\n",
              " 'needn',\n",
              " \"needn't\",\n",
              " 'shan',\n",
              " \"shan't\",\n",
              " 'shouldn',\n",
              " \"shouldn't\",\n",
              " 'wasn',\n",
              " \"wasn't\",\n",
              " 'weren',\n",
              " \"weren't\",\n",
              " 'won',\n",
              " \"won't\",\n",
              " 'wouldn',\n",
              " \"wouldn't\"]"
            ]
          },
          "metadata": {},
          "execution_count": 85
        }
      ]
    },
    {
      "cell_type": "markdown",
      "source": [
        "#Program 3\n",
        "Convert text file to tokens and - \n",
        "1. Print tokens\n",
        "2. Print tokens that does not contain stopwords."
      ],
      "metadata": {
        "id": "3E4z-202njyd"
      }
    },
    {
      "cell_type": "code",
      "source": [
        "with open('/content/drive/MyDrive/Datasets/buddhist.txt','r') as file:\n",
        "  text = file.read()\n",
        "\n",
        "# text\n",
        "from nltk.tokenize import sent_tokenize, word_tokenize\n",
        "\n",
        "# sentence_tokens = sent_tokenize(text)\n",
        "word_tokens = word_tokenize(text)\n",
        "words_without_stop_words = []\n",
        "# for i in sentence_tokens:\n",
        "#   word = word_tokenize(i)\n",
        "#   word_tokens.append(word)\n",
        "\n",
        "# print(\"Sentence Tokens = {}\".format(sentence_tokens))\n",
        "print(\"Word Tokens = {}\".format(word_tokens))\n",
        "\n",
        "from nltk.corpus import stopwords\n",
        "\n",
        "stop_words = stopwords.words('english')\n",
        "for token in word_tokens:\n",
        "  if token not in stop_words:\n",
        "    words_without_stop_words.append(token)\n",
        "\n",
        "print(\"Tokens without stop words = {}\".format(words_without_stop_words))\n",
        "\n"
      ],
      "metadata": {
        "id": "MfpO5UoxiA2S",
        "colab": {
          "base_uri": "https://localhost:8080/"
        },
        "outputId": "aeaec61a-1f89-4a5a-b556-904eaabd955b"
      },
      "execution_count": 91,
      "outputs": [
        {
          "output_type": "stream",
          "name": "stdout",
          "text": [
            "Word Tokens = ['Buddhist', 'universities', 'and', 'colleges', 'in', 'the', 'United', 'States', 'From', 'Wikipedia', ',', 'the', 'free', 'encyclopedia', 'Jump', 'to', 'navigationJump', 'to', 'search', 'This', 'article', 'needs', 'additional', 'citations', 'for', 'verification', '.', 'Please', 'help', 'improve', 'this', 'article', 'by', 'adding', 'citations', 'to', 'reliable', 'sources', '.', 'Unsourced', 'material', 'may', 'be', 'challenged', 'and', 'removed', '.', 'Find', 'sources', ':', '``', 'Buddhist', 'universities', 'and', 'colleges', 'in', 'the', 'United', 'States', \"''\", '-', 'news', '·', 'newspapers', '·', 'books', '·', 'scholar', '·', 'JSTOR', '(', 'December', '2009', ')', '(', 'Learn', 'how', 'and', 'when', 'to', 'remove', 'this', 'template', 'message', ')', 'There', 'are', 'several', 'Buddhist', 'universities', 'in', 'the', 'United', 'States', '.', 'Some', 'of', 'these', 'have', 'existed', 'for', 'decades', 'and', 'are', 'accredited', '.', 'Others', 'are', 'relatively', 'new', 'and', 'are', 'either', 'in', 'the', 'process', 'of', 'being', 'accredited', 'or', 'else', 'have', 'no', 'formal', 'accreditation', '.', 'The', 'list', 'includes', ':', 'Dhammakaya', 'Open', 'University', '-', 'located', 'in', 'Azusa', ',', 'California', 'part', 'of', 'the', 'Thai', 'Wat', 'Phra', 'Dhammakaya', 'Dharmakirti', 'College', '-', 'located', 'in', 'Tucson', ',', 'Arizona', 'Now', 'called', 'Awam', 'Tibetan', 'Buddhist', 'Institute', '(', 'http', ':', '//awaminstitute.org/', ')', 'Dharma', 'Realm', 'Buddhist', 'University', '-', 'located', 'in', 'Ukiah', ',', 'California', '(', 'Accredited', 'by', 'the', 'WASC', 'Senior', 'College', 'and', 'University', 'Commission', ')', 'Ewam', 'Buddhist', 'Institute', '-', 'located', 'in', 'Arlee', ',', 'Montana', 'Naropa', 'University', '-', 'located', 'in', 'Boulder', ',', 'Colorado', '(', 'Accredited', 'by', 'the', 'Higher', 'Learning', 'Commission', ')', 'Institute', 'of', 'Buddhist', 'Studies', '-', 'located', 'in', 'Berkeley', ',', 'California', 'Maitripa', 'College', '-', 'located', 'in', 'Portland', ',', 'Oregon', 'Soka', 'University', 'of', 'America', '-', 'located', 'in', 'AlisoViejo', ',', 'California', 'University', 'of', 'the', 'West', '-', 'located', 'in', 'Rosemead', ',', 'California', '(', 'Accredited', 'by', 'the', 'WASC', 'Senior', 'College', 'and', 'University', 'Commission', ')', 'Won', 'Institute', 'of', 'Graduate', 'Studies', '-', 'located', 'in', 'Glenside', ',', 'Pennsylvania', 'References', 'Banchanon', ',', 'Phongphiphat', '(', '3', 'February', '2015', ')', '.', '[', 'Getting', 'to', 'know', 'the', 'Dhammakaya', 'network', ']', '.', 'Forbes', 'Thailand', '(', 'in', 'Thai', ')', '.', 'Archived', 'from', 'the', 'original', 'on', '11', 'November', '2016', '.', 'Retrieved', '11', 'November', '2016', '.', 'External', 'links', 'List', 'of', 'Buddhist', 'Universities', 'and', 'Colleges', 'in', 'the', 'world']\n",
            "Tokens without stop words = ['Buddhist', 'universities', 'colleges', 'United', 'States', 'From', 'Wikipedia', ',', 'free', 'encyclopedia', 'Jump', 'navigationJump', 'search', 'This', 'article', 'needs', 'additional', 'citations', 'verification', '.', 'Please', 'help', 'improve', 'article', 'adding', 'citations', 'reliable', 'sources', '.', 'Unsourced', 'material', 'may', 'challenged', 'removed', '.', 'Find', 'sources', ':', '``', 'Buddhist', 'universities', 'colleges', 'United', 'States', \"''\", '-', 'news', '·', 'newspapers', '·', 'books', '·', 'scholar', '·', 'JSTOR', '(', 'December', '2009', ')', '(', 'Learn', 'remove', 'template', 'message', ')', 'There', 'several', 'Buddhist', 'universities', 'United', 'States', '.', 'Some', 'existed', 'decades', 'accredited', '.', 'Others', 'relatively', 'new', 'either', 'process', 'accredited', 'else', 'formal', 'accreditation', '.', 'The', 'list', 'includes', ':', 'Dhammakaya', 'Open', 'University', '-', 'located', 'Azusa', ',', 'California', 'part', 'Thai', 'Wat', 'Phra', 'Dhammakaya', 'Dharmakirti', 'College', '-', 'located', 'Tucson', ',', 'Arizona', 'Now', 'called', 'Awam', 'Tibetan', 'Buddhist', 'Institute', '(', 'http', ':', '//awaminstitute.org/', ')', 'Dharma', 'Realm', 'Buddhist', 'University', '-', 'located', 'Ukiah', ',', 'California', '(', 'Accredited', 'WASC', 'Senior', 'College', 'University', 'Commission', ')', 'Ewam', 'Buddhist', 'Institute', '-', 'located', 'Arlee', ',', 'Montana', 'Naropa', 'University', '-', 'located', 'Boulder', ',', 'Colorado', '(', 'Accredited', 'Higher', 'Learning', 'Commission', ')', 'Institute', 'Buddhist', 'Studies', '-', 'located', 'Berkeley', ',', 'California', 'Maitripa', 'College', '-', 'located', 'Portland', ',', 'Oregon', 'Soka', 'University', 'America', '-', 'located', 'AlisoViejo', ',', 'California', 'University', 'West', '-', 'located', 'Rosemead', ',', 'California', '(', 'Accredited', 'WASC', 'Senior', 'College', 'University', 'Commission', ')', 'Won', 'Institute', 'Graduate', 'Studies', '-', 'located', 'Glenside', ',', 'Pennsylvania', 'References', 'Banchanon', ',', 'Phongphiphat', '(', '3', 'February', '2015', ')', '.', '[', 'Getting', 'know', 'Dhammakaya', 'network', ']', '.', 'Forbes', 'Thailand', '(', 'Thai', ')', '.', 'Archived', 'original', '11', 'November', '2016', '.', 'Retrieved', '11', 'November', '2016', '.', 'External', 'links', 'List', 'Buddhist', 'Universities', 'Colleges', 'world']\n"
          ]
        }
      ]
    },
    {
      "cell_type": "markdown",
      "source": [
        "###I was trying to tokenize file by sentences and then if a sentence contains stop word then skip that sentence. But I couldn't do that."
      ],
      "metadata": {
        "id": "n1MVdc0fg955"
      }
    },
    {
      "cell_type": "markdown",
      "source": [
        "#Program 4\n",
        "'Friendship' - Form minigful words with at least 4 length.\n",
        "For e.g. - ship, ends, ripen etc."
      ],
      "metadata": {
        "id": "Be9S2P-wiKOS"
      }
    },
    {
      "cell_type": "code",
      "source": [
        "# from numpy import mean\n",
        "# import random\n",
        "# word = 'friendship'\n",
        "# l = [i for i in word]\n",
        "# print(l)\n",
        "# n = len(l)\n",
        "# print(n)\n",
        "# # the possible  words can be formed of lengths at least 4 in 10C4 Ways\n",
        "# for i in range (0,10):\n",
        "#   temp = l[random.randint(1,9)]\n",
        "#   print(temp)\n",
        "\n",
        "import itertools\n",
        "\n",
        "def create_words(lists, size_of_each_word):\n",
        "  words = []\n",
        "  for i in lists:\n",
        "    words.append(''.join(i))\n",
        "  return(words)\n",
        "\n",
        "l1 = itertools.combinations('friendship',4)\n",
        "l2 = itertools.combinations('friendship',5)\n",
        "l3 = itertools.combinations('friendship',6)\n",
        "l4 = itertools.combinations('friendship',7)\n",
        "l5 = itertools.combinations('friendship',8)\n",
        "l6 = itertools.combinations('friendship',9)\n",
        "l7 = itertools.combinations('friendship',10)\n",
        "\n",
        "words_list = []\n",
        "\n",
        "words_list.append(create_words(l1,4))\n",
        "words_list.append(create_words(l2,5))\n",
        "words_list.append(create_words(l3,6))\n",
        "words_list.append(create_words(l4,7))\n",
        "words_list.append(create_words(l5,8))\n",
        "words_list.append(create_words(l6,9))\n",
        "words_list.append(create_words(l7,10))\n",
        "\n",
        "templist = []\n",
        "# print(words_list[0])\n",
        "\n",
        "for i in words_list:\n",
        "  for j in i:\n",
        "    templist.append(j)\n",
        "\n",
        "print(\"Length of templist = {}\".format(len(templist)))\n",
        "\n",
        "tempset = set(templist) # this will remove any duplicate values in templist\n",
        "\n",
        "print(\"Tempset Length = {}\".format(len(tempset)))\n",
        "\n",
        "from nltk.corpus import wordnet\n",
        "\n",
        "# syn = wordnet.synsets('shjsbjk')\n",
        "# print(type(syn))\n",
        "# print(len(syn))\n",
        "\n",
        "meaningful_words = []\n",
        "for i in tempset:\n",
        "  if len(wordnet.synsets(i)) != 0:\n",
        "    meaningful_words.append(i)\n",
        "\n",
        "print(\"Length of Meaningful words = {}\".format(len(meaningful_words)))\n",
        "print(\"Meaningful Words ={}\".format(meaningful_words))\n",
        "\n",
        "\n",
        "\n",
        "\n"
      ],
      "metadata": {
        "id": "Wf-V7PJOplYM",
        "colab": {
          "base_uri": "https://localhost:8080/"
        },
        "outputId": "5ea19d2c-f27f-4041-9ae2-eff05232f15a"
      },
      "execution_count": 90,
      "outputs": [
        {
          "output_type": "stream",
          "name": "stdout",
          "text": [
            "Length of templist = 848\n",
            "Tempset Length = 847\n",
            "Length of Meaningful words = 28\n",
            "Meaningful Words =['rinds', 'fried', 'friends', 'fris', 'reds', 'rends', 'reship', 'fresh', 'find', 'friend', 'finds', 'fends', 'fries', 'fiend', 'feds', 'rind', 'ieds', 'ship', 'fens', 'fiends', 'fend', 'fins', 'friendship', 'rend', 'fish', 'resh', 'rids', 'ends']\n"
          ]
        }
      ]
    },
    {
      "cell_type": "markdown",
      "source": [
        "#Program 5\n",
        "Find Synonyms for word 'Hello' using wordnet corpus"
      ],
      "metadata": {
        "id": "uHoaPHhOv0ap"
      }
    },
    {
      "cell_type": "code",
      "source": [
        "from nltk.corpus import wordnet\n",
        "synonyms = []\n",
        "for syn in wordnet.synsets('Hello'):\n",
        "  for lemma in syn.lemmas():\n",
        "    synonyms.append(lemma.name())\n",
        "\n",
        "print(synonyms)\n"
      ],
      "metadata": {
        "colab": {
          "base_uri": "https://localhost:8080/"
        },
        "id": "vLh7tiiUk6FV",
        "outputId": "8fb591bc-de12-46ed-fb23-87d7155fd83d"
      },
      "execution_count": null,
      "outputs": [
        {
          "output_type": "stream",
          "name": "stdout",
          "text": [
            "['hello', 'hullo', 'hi', 'howdy', 'how-do-you-do']\n"
          ]
        }
      ]
    }
  ]
}